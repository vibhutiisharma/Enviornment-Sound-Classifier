{
 "cells": [
  {
   "cell_type": "code",
   "execution_count": 1,
   "id": "b437d269",
   "metadata": {},
   "outputs": [
    {
     "name": "stdout",
     "output_type": "stream",
     "text": [
      "WARNING:tensorflow:From C:\\Users\\Vibhuti Sharma\\AppData\\Roaming\\Python\\Python311\\site-packages\\keras\\src\\losses.py:2976: The name tf.losses.sparse_softmax_cross_entropy is deprecated. Please use tf.compat.v1.losses.sparse_softmax_cross_entropy instead.\n",
      "\n"
     ]
    }
   ],
   "source": [
    "import os\n",
    "import numpy as np\n",
    "import pandas as pd\n",
    "import matplotlib.pyplot as plt\n",
    "import seaborn as sns\n",
    "import tensorflow as tf\n",
    "from tensorflow.keras.models import Sequential\n",
    "from tensorflow.keras.layers import Conv2D, MaxPooling2D, Flatten, Dense, Dropout\n",
    "from tensorflow.keras.optimizers import Adam\n",
    "from sklearn.model_selection import train_test_split\n",
    "from sklearn.metrics import classification_report, confusion_matrix\n"
   ]
  },
  {
   "cell_type": "code",
   "execution_count": 3,
   "id": "c9a277db",
   "metadata": {},
   "outputs": [],
   "source": [
    "data_dir = 'C:/Users/Vibhuti Sharma/Downloads/Compressed/features.tar'\n",
    "balanced_train_path = 'C:/Users/Vibhuti Sharma/Downloads/Compressed/audioset_v1_embeddings/bal_train.csv'\n",
    "eval_path = 'C:/Users/Vibhuti Sharma/Downloads/Compressed/audioset_v1_embeddings/eval.csv'\n",
    "unbalanced_train_path = 'C:/Users/Vibhuti Sharma/Downloads/Compressed/audioset_v1_embeddings/unbal_train.csv'"
   ]
  },
  {
   "cell_type": "code",
   "execution_count": null,
   "id": "5bd2c687",
   "metadata": {},
   "outputs": [],
   "source": []
  }
 ],
 "metadata": {
  "kernelspec": {
   "display_name": "Python 3 (ipykernel)",
   "language": "python",
   "name": "python3"
  },
  "language_info": {
   "codemirror_mode": {
    "name": "ipython",
    "version": 3
   },
   "file_extension": ".py",
   "mimetype": "text/x-python",
   "name": "python",
   "nbconvert_exporter": "python",
   "pygments_lexer": "ipython3",
   "version": "3.11.5"
  }
 },
 "nbformat": 4,
 "nbformat_minor": 5
}
